{
 "cells": [
  {
   "cell_type": "code",
   "execution_count": null,
   "metadata": {},
   "outputs": [],
   "source": [
    "# Question no 1"
   ]
  },
  {
   "cell_type": "code",
   "execution_count": 8,
   "metadata": {},
   "outputs": [
    {
     "name": "stdout",
     "output_type": "stream",
     "text": [
      "Hi all\n"
     ]
    }
   ],
   "source": [
    "fn=open (\"bcd.txt\",\"a\")\n",
    "fn.write(\"Hi all\")\n",
    "fn.close()\n",
    "fn=open(\"bcd.txt\",\"r\")\n",
    "fn1=open(\"pqrs.txt\",\"w\")\n",
    "cont=fn.read()\n",
    "for i in range(0,len(cont)):\n",
    "    fn1.write(cont[i])\n",
    "fn1.close()\n",
    "fn1=open(\"pqrs.txt\",\"r\")\n",
    "cont1=fn1.read()\n",
    "print(cont1)\n",
    "fn.close()\n",
    "fn1.close()"
   ]
  },
  {
   "cell_type": "code",
   "execution_count": 9,
   "metadata": {},
   "outputs": [],
   "source": [
    "# question 2\n"
   ]
  },
  {
   "cell_type": "code",
   "execution_count": 19,
   "metadata": {},
   "outputs": [
    {
     "name": "stdout",
     "output_type": "stream",
     "text": [
      "d\n"
     ]
    }
   ],
   "source": [
    "def get_max_val_key(data):\n",
    "    max_value = None\n",
    "    for key in data:\n",
    "        if max_value is None or max_value < data[key]:\n",
    "            max_value = data[key]\n",
    "            max_key = key\n",
    "    return max_key\n",
    "\n",
    "\n",
    "\n",
    "data = {\"a\":11, \"b\":12,\"c\":44,\"d\":60}\n",
    "print(get_max_val_key(data))"
   ]
  },
  {
   "cell_type": "code",
   "execution_count": 20,
   "metadata": {},
   "outputs": [
    {
     "name": "stdout",
     "output_type": "stream",
     "text": [
      "a\n"
     ]
    }
   ],
   "source": [
    "def get_min_val_key(data):\n",
    "    min_value = None\n",
    "    for key in data:\n",
    "        if min_value is None or min_value > data[key]:\n",
    "            min_value = data[key]\n",
    "            min_key = key\n",
    "    return min_key\n",
    "\n",
    "\n",
    "\n",
    "data = {\"a\":11, \"b\":12,\"c\":44,\"d\":60}\n",
    "print(get_min_val_key(data))"
   ]
  },
  {
   "cell_type": "code",
   "execution_count": null,
   "metadata": {},
   "outputs": [],
   "source": []
  }
 ],
 "metadata": {
  "kernelspec": {
   "display_name": "Python 3",
   "language": "python",
   "name": "python3"
  },
  "language_info": {
   "codemirror_mode": {
    "name": "ipython",
    "version": 3
   },
   "file_extension": ".py",
   "mimetype": "text/x-python",
   "name": "python",
   "nbconvert_exporter": "python",
   "pygments_lexer": "ipython3",
   "version": "3.8.3"
  }
 },
 "nbformat": 4,
 "nbformat_minor": 4
}
