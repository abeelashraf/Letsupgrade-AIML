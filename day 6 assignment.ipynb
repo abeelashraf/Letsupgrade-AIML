{
 "cells": [
  {
   "cell_type": "code",
   "execution_count": 1,
   "metadata": {},
   "outputs": [],
   "source": [
    "# Question 1"
   ]
  },
  {
   "cell_type": "code",
   "execution_count": 2,
   "metadata": {},
   "outputs": [
    {
     "name": "stdout",
     "output_type": "stream",
     "text": [
      "enter your email : abc@yahoo.com\n",
      "yahoo\n"
     ]
    }
   ],
   "source": [
    "text1=input(\"enter your email : \")\n",
    "text2= text1[text1.find(\"@\")+1:text1.find(\".\")]\n",
    "print(text2)"
   ]
  },
  {
   "cell_type": "code",
   "execution_count": null,
   "metadata": {},
   "outputs": [],
   "source": [
    "#question 3"
   ]
  },
  {
   "cell_type": "code",
   "execution_count": 20,
   "metadata": {},
   "outputs": [
    {
     "name": "stdout",
     "output_type": "stream",
     "text": [
      "can, man, van "
     ]
    }
   ],
   "source": [
    "l=\"man, can, van\"\n",
    "splitl=l.split()\n",
    "splitl.sort()\n",
    "for l in splitl:\n",
    "    print(l,end=\" \")"
   ]
  },
  {
   "cell_type": "code",
   "execution_count": null,
   "metadata": {},
   "outputs": [],
   "source": [
    "# question 3"
   ]
  },
  {
   "cell_type": "markdown",
   "metadata": {},
   "source": [
    "sets are another data type.it cannot have multiple occurence.\n",
    "sets are written in curly bracket.\n",
    "if we add something to the set named as 's1':\n",
    "                  si.add(\"enter your desired one)\n",
    "       add more than one item :\n",
    "                    si.update([\", , \"])\n",
    "if we want to remove something:\n",
    "                  si.remove(\"enter you want to remove)\n"
   ]
  },
  {
   "cell_type": "code",
   "execution_count": null,
   "metadata": {},
   "outputs": [],
   "source": [
    "#question 4"
   ]
  },
  {
   "cell_type": "code",
   "execution_count": 31,
   "metadata": {},
   "outputs": [
    {
     "name": "stdout",
     "output_type": "stream",
     "text": [
      "4.0  is the missing number \n"
     ]
    }
   ],
   "source": [
    "def missingno(a):\n",
    "    n=len(a)\n",
    "    total=(n+1)*(n+2)/2\n",
    "    sum(a)\n",
    "    return total-sum(a)\n",
    "a=[1,2,3,5,6,7,8]\n",
    "print(missingno(a),\" is the missing number \")"
   ]
  },
  {
   "cell_type": "code",
   "execution_count": null,
   "metadata": {},
   "outputs": [],
   "source": [
    "#question 5"
   ]
  },
  {
   "cell_type": "code",
   "execution_count": 32,
   "metadata": {},
   "outputs": [
    {
     "data": {
      "text/plain": [
       "[1, 2, 3, 4]"
      ]
     },
     "execution_count": 32,
     "metadata": {},
     "output_type": "execute_result"
    }
   ],
   "source": [
    "l=[1,2,3,4,2,1]\n",
    "list(set(l))"
   ]
  },
  {
   "cell_type": "code",
   "execution_count": null,
   "metadata": {},
   "outputs": [],
   "source": []
  }
 ],
 "metadata": {
  "kernelspec": {
   "display_name": "Python 3",
   "language": "python",
   "name": "python3"
  },
  "language_info": {
   "codemirror_mode": {
    "name": "ipython",
    "version": 3
   },
   "file_extension": ".py",
   "mimetype": "text/x-python",
   "name": "python",
   "nbconvert_exporter": "python",
   "pygments_lexer": "ipython3",
   "version": "3.8.3"
  }
 },
 "nbformat": 4,
 "nbformat_minor": 4
}
